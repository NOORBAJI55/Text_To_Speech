{
  "nbformat": 4,
  "nbformat_minor": 0,
  "metadata": {
    "colab": {
      "provenance": [],
      "authorship_tag": "ABX9TyMtTqj5ytdVmJSTo4OVr6nu",
      "include_colab_link": true
    },
    "kernelspec": {
      "name": "python3",
      "display_name": "Python 3"
    },
    "language_info": {
      "name": "python"
    }
  },
  "cells": [
    {
      "cell_type": "markdown",
      "metadata": {
        "id": "view-in-github",
        "colab_type": "text"
      },
      "source": [
        "<a href=\"https://colab.research.google.com/github/NOORBAJI55/Text_To_Speech/blob/main/Text_To_Speech.ipynb\" target=\"_parent\"><img src=\"https://colab.research.google.com/assets/colab-badge.svg\" alt=\"Open In Colab\"/></a>"
      ]
    },
    {
      "cell_type": "code",
      "source": [
        "# Import the necessary libraries\n",
        "from gtts import gTTS\n",
        "import os\n",
        "\n",
        "# Provide the text you want to convert\n",
        "input_text = input()\n",
        "# Set the language (English in this case)\n",
        "language = \"en\"\n",
        "\n",
        "# Initialize gTTS object with the text and language\n",
        "voice = gTTS(text=input_text, lang=language, slow=False)\n",
        "\n",
        "# Save the audio file as 'voice_note.mp3'\n",
        "voice.save(\"voice_note.mp3\")\n",
        "\n",
        "# Play the audio file (use 'start' for Windows, 'xdg-open' for Linux, 'open' for macOS)\n",
        "#os.system(\"start voice_note.mp3\")  # Windows\n",
        "#os.system(\"xdg-open voice_note.mp3\")  # Linux\n",
        "#os.system(\"open voice_note.mp3\")  # macOS\n"
      ],
      "metadata": {
        "id": "frt3cf78a3vx"
      },
      "execution_count": null,
      "outputs": []
    }
  ]
}